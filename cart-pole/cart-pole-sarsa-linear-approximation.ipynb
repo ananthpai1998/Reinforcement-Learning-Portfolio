{
 "cells": [
  {
   "cell_type": "code",
   "execution_count": 1,
   "metadata": {},
   "outputs": [],
   "source": [
    "import numpy as np\n",
    "import matplotlib.pyplot as plt\n",
    "import gym\n",
    "import time\n",
    "from gym.envs.toy_text.frozen_lake import generate_random_map\n",
    "from tqdm import tqdm\n",
    "import sys\n",
    "sys.path.append('../')\n",
    "from sarsa.sarsa_linear_approximation import sarsa_linear_approximation"
   ]
  },
  {
   "cell_type": "code",
   "execution_count": 2,
   "metadata": {},
   "outputs": [],
   "source": [
    "def CPphi14(x):\n",
    "    y=np.zeros(14)\n",
    "    y[:4]=x\n",
    "    y[4]=np.sin(x[2])\n",
    "    y[5]=np.sin(x[2])*x[1]\n",
    "    y[6]=np.sin(x[2])*x[3]\n",
    "    y[7]=4.8-x[0]<0.3\n",
    "    y[8]=x[0]+4.8<0.3\n",
    "    y[9]=np.cos(x[2])\n",
    "    y[10]=np.cos(x[2])*x[1]\n",
    "    y[11]=np.cos(x[2])*x[3]\n",
    "    y[12]=x[1]>0.9\n",
    "    y[13]=x[1]<-0.9\n",
    "    return y\n",
    "    \n",
    "def prepCartPole(render_mode=None):\n",
    "    env = gym.make('CartPole-v1',render_mode=render_mode)\n",
    "    dname=\"CartPole\"\n",
    "    nA=2\n",
    "    dim=14\n",
    "    env._max_episode_steps = 500\n",
    "    _a,_b = env.reset(seed=1) \n",
    "    return(dim,nA,env,CPphi14,dname)"
   ]
  },
  {
   "cell_type": "code",
   "execution_count": 4,
   "metadata": {},
   "outputs": [
    {
     "name": "stderr",
     "output_type": "stream",
     "text": [
      "  0%|          | 102/400000 [00:00<13:04, 509.55it/s]"
     ]
    },
    {
     "name": "stdout",
     "output_type": "stream",
     "text": [
      "Episode: 0, mean_reward: 9.328634332773651, games_won: 0, avg_steps: 9.368 , epsilon: 1.0\n"
     ]
    },
    {
     "name": "stderr",
     "output_type": "stream",
     "text": [
      "  5%|▌         | 20122/400000 [00:26<48:01, 131.82it/s] "
     ]
    },
    {
     "name": "stdout",
     "output_type": "stream",
     "text": [
      "Episode: 20000, mean_reward: 163.57889687716607, games_won: 66, avg_steps: 179.404 , epsilon: 0.9499998749996875\n"
     ]
    },
    {
     "name": "stderr",
     "output_type": "stream",
     "text": [
      " 10%|█         | 40163/400000 [00:56<44:00, 136.30it/s] "
     ]
    },
    {
     "name": "stdout",
     "output_type": "stream",
     "text": [
      "Episode: 40000, mean_reward: 195.607494000537, games_won: 173, avg_steps: 218.056 , epsilon: 0.899999749999375\n"
     ]
    },
    {
     "name": "stderr",
     "output_type": "stream",
     "text": [
      " 13%|█▎        | 50143/400000 [01:14<51:56, 112.25it/s] "
     ]
    },
    {
     "name": "stdout",
     "output_type": "stream",
     "text": [
      "Episode: 49999, mean_reward: 205.52389606521083, games_won: 212, avg_steps: 230.232 , epsilon: 0.8750021875054688\n"
     ]
    },
    {
     "name": "stderr",
     "output_type": "stream",
     "text": [
      " 15%|█▌        | 60085/400000 [01:34<1:13:26, 77.15it/s]"
     ]
    },
    {
     "name": "stdout",
     "output_type": "stream",
     "text": [
      "Episode: 60000, mean_reward: 217.44229116228848, games_won: 362, avg_steps: 245.136 , epsilon: 0.8499996249990625\n"
     ]
    },
    {
     "name": "stderr",
     "output_type": "stream",
     "text": [
      " 20%|██        | 80049/400000 [02:12<1:25:01, 62.71it/s]"
     ]
    },
    {
     "name": "stdout",
     "output_type": "stream",
     "text": [
      "Episode: 80000, mean_reward: 221.9735138568012, games_won: 494, avg_steps: 250.87 , epsilon: 0.79999949999875\n"
     ]
    },
    {
     "name": "stderr",
     "output_type": "stream",
     "text": [
      " 25%|██▌       | 100050/400000 [02:54<1:49:15, 45.76it/s]"
     ]
    },
    {
     "name": "stdout",
     "output_type": "stream",
     "text": [
      "Episode: 100000, mean_reward: 222.07532925712823, games_won: 500, avg_steps: 251.0 , epsilon: 0.7499993749984375\n"
     ]
    },
    {
     "name": "stderr",
     "output_type": "stream",
     "text": [
      " 30%|███       | 120069/400000 [03:44<1:30:56, 51.30it/s]"
     ]
    },
    {
     "name": "stdout",
     "output_type": "stream",
     "text": [
      "Episode: 120000, mean_reward: 222.07532925712823, games_won: 500, avg_steps: 251.0 , epsilon: 0.699999249998125\n"
     ]
    },
    {
     "name": "stderr",
     "output_type": "stream",
     "text": [
      " 35%|███▌      | 140044/400000 [04:40<1:35:53, 45.18it/s]"
     ]
    },
    {
     "name": "stdout",
     "output_type": "stream",
     "text": [
      "Episode: 140000, mean_reward: 222.07532925712823, games_won: 500, avg_steps: 251.0 , epsilon: 0.6499991249978125\n"
     ]
    },
    {
     "name": "stderr",
     "output_type": "stream",
     "text": [
      " 40%|████      | 160054/400000 [05:45<1:43:00, 38.82it/s]"
     ]
    },
    {
     "name": "stdout",
     "output_type": "stream",
     "text": [
      "Episode: 160000, mean_reward: 222.07532925712823, games_won: 500, avg_steps: 251.0 , epsilon: 0.5999989999975\n"
     ]
    },
    {
     "name": "stderr",
     "output_type": "stream",
     "text": [
      " 45%|████▌     | 180047/400000 [07:02<2:00:48, 30.35it/s]"
     ]
    },
    {
     "name": "stdout",
     "output_type": "stream",
     "text": [
      "Episode: 180000, mean_reward: 222.07532925712823, games_won: 500, avg_steps: 251.0 , epsilon: 0.5499988749971875\n"
     ]
    },
    {
     "name": "stderr",
     "output_type": "stream",
     "text": [
      " 50%|█████     | 200035/400000 [08:36<2:26:54, 22.69it/s]"
     ]
    },
    {
     "name": "stdout",
     "output_type": "stream",
     "text": [
      "Episode: 200000, mean_reward: 222.07532925712823, games_won: 500, avg_steps: 251.0 , epsilon: 0.499998749996875\n"
     ]
    },
    {
     "name": "stderr",
     "output_type": "stream",
     "text": [
      " 55%|█████▌    | 220025/400000 [10:29<2:11:00, 22.89it/s]"
     ]
    },
    {
     "name": "stdout",
     "output_type": "stream",
     "text": [
      "Episode: 220000, mean_reward: 218.09635362118604, games_won: 400, avg_steps: 246.002 , epsilon: 0.4499986249965625\n"
     ]
    },
    {
     "name": "stderr",
     "output_type": "stream",
     "text": [
      " 60%|██████    | 240023/400000 [12:37<2:18:55, 19.19it/s]"
     ]
    },
    {
     "name": "stdout",
     "output_type": "stream",
     "text": [
      "Episode: 240000, mean_reward: 222.07532925712823, games_won: 500, avg_steps: 251.0 , epsilon: 0.39999849999625\n"
     ]
    },
    {
     "name": "stderr",
     "output_type": "stream",
     "text": [
      " 65%|██████▌   | 260021/400000 [15:00<2:33:30, 15.20it/s]"
     ]
    },
    {
     "name": "stdout",
     "output_type": "stream",
     "text": [
      "Episode: 260000, mean_reward: 222.07532925712823, games_won: 500, avg_steps: 251.0 , epsilon: 0.3499983749959375\n"
     ]
    },
    {
     "name": "stderr",
     "output_type": "stream",
     "text": [
      " 70%|███████   | 280021/400000 [17:32<2:12:19, 15.11it/s]"
     ]
    },
    {
     "name": "stdout",
     "output_type": "stream",
     "text": [
      "Episode: 280000, mean_reward: 217.68738976937925, games_won: 450, avg_steps: 245.572 , epsilon: 0.29999824999562497\n"
     ]
    },
    {
     "name": "stderr",
     "output_type": "stream",
     "text": [
      " 75%|███████▌  | 300020/400000 [20:31<1:52:28, 14.81it/s]"
     ]
    },
    {
     "name": "stdout",
     "output_type": "stream",
     "text": [
      "Episode: 300000, mean_reward: 199.52563217350135, games_won: 24, avg_steps: 222.542 , epsilon: 0.2499981249953125\n"
     ]
    },
    {
     "name": "stderr",
     "output_type": "stream",
     "text": [
      " 80%|███████▉  | 319972/400000 [23:50<02:54, 458.89it/s] "
     ]
    },
    {
     "name": "stdout",
     "output_type": "stream",
     "text": [
      "Episode: 320000, mean_reward: 222.07532925712823, games_won: 500, avg_steps: 251.0 , epsilon: 0.19999799999499998\n"
     ]
    },
    {
     "name": "stderr",
     "output_type": "stream",
     "text": [
      " 85%|████████▌ | 340030/400000 [27:31<22:55, 43.60it/s] "
     ]
    },
    {
     "name": "stdout",
     "output_type": "stream",
     "text": [
      "Episode: 340000, mean_reward: 91.47748334297752, games_won: 0, avg_steps: 95.98 , epsilon: 0.14999787499468747\n"
     ]
    },
    {
     "name": "stderr",
     "output_type": "stream",
     "text": [
      " 90%|█████████ | 360130/400000 [31:59<00:52, 762.69it/s]"
     ]
    },
    {
     "name": "stdout",
     "output_type": "stream",
     "text": [
      "Episode: 360000, mean_reward: 11.731254620507343, games_won: 0, avg_steps: 11.806 , epsilon: 0.09999774999437498\n"
     ]
    },
    {
     "name": "stderr",
     "output_type": "stream",
     "text": [
      " 95%|█████████▌| 380010/400000 [35:01<39:49,  8.36it/s]  "
     ]
    },
    {
     "name": "stdout",
     "output_type": "stream",
     "text": [
      "Episode: 380000, mean_reward: 222.07532925712823, games_won: 500, avg_steps: 251.0 , epsilon: 0.04999762499406248\n"
     ]
    },
    {
     "name": "stderr",
     "output_type": "stream",
     "text": [
      "100%|██████████| 400000/400000 [39:07<00:00, 170.41it/s]"
     ]
    },
    {
     "name": "stdout",
     "output_type": "stream",
     "text": [
      "Episode: 399999, mean_reward: 222.07532925712823, games_won: 500, avg_steps: 251.0 , epsilon: 0.0\n"
     ]
    },
    {
     "name": "stderr",
     "output_type": "stream",
     "text": [
      "\n"
     ]
    }
   ],
   "source": [
    "nS,nA,env,phi,envName = prepCartPole()\n",
    "mean_reward, weights_dict = sarsa_linear_approximation(env, nA, dim=nS, episodes=400000, alpha=0.001, gamma=0.999, start_epsilon=1, max_steps_per_episode=250, phi=phi, mean=1, std_dev=0.1)\n",
    "\n"
   ]
  },
  {
   "cell_type": "code",
   "execution_count": null,
   "metadata": {},
   "outputs": [],
   "source": []
  }
 ],
 "metadata": {
  "kernelspec": {
   "display_name": "gpu-env",
   "language": "python",
   "name": "gpu-env"
  },
  "language_info": {
   "codemirror_mode": {
    "name": "ipython",
    "version": 3
   },
   "file_extension": ".py",
   "mimetype": "text/x-python",
   "name": "python",
   "nbconvert_exporter": "python",
   "pygments_lexer": "ipython3",
   "version": "3.10.14"
  }
 },
 "nbformat": 4,
 "nbformat_minor": 2
}
