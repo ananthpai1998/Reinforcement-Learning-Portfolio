{
 "cells": [
  {
   "cell_type": "code",
   "execution_count": 1,
   "metadata": {},
   "outputs": [],
   "source": [
    "import numpy as np\n",
    "import matplotlib.pyplot as plt\n",
    "import gym\n",
    "import time\n",
    "from gym.envs.toy_text.frozen_lake import generate_random_map\n",
    "from tqdm import tqdm\n",
    "import sys\n",
    "sys.path.append('../')\n",
    "from sarsa.sarsa_linear_approximation import sarsa_linear_approximation\n"
   ]
  },
  {
   "cell_type": "code",
   "execution_count": 2,
   "metadata": {},
   "outputs": [
    {
     "name": "stderr",
     "output_type": "stream",
     "text": [
      "  0%|          | 0/400000 [00:00<?, ?it/s]c:\\Users\\anant\\.conda\\envs\\gpu-env\\lib\\site-packages\\gym\\utils\\passive_env_checker.py:233: DeprecationWarning: `np.bool8` is a deprecated alias for `np.bool_`.  (Deprecated NumPy 1.24)\n",
      "  if not isinstance(terminated, (bool, np.bool8)):\n",
      "  0%|          | 442/400000 [00:00<04:11, 1590.43it/s]"
     ]
    },
    {
     "name": "stdout",
     "output_type": "stream",
     "text": [
      "Episode: 0, mean_reward: 0.0018948130182282821, games_won: 1, avg_steps: 19.65 , epsilon: 1.0\n"
     ]
    },
    {
     "name": "stderr",
     "output_type": "stream",
     "text": [
      "  5%|▌         | 20462/400000 [00:09<06:41, 944.86it/s] "
     ]
    },
    {
     "name": "stdout",
     "output_type": "stream",
     "text": [
      "Episode: 20000, mean_reward: 0.0, games_won: 0, avg_steps: 110.69 , epsilon: 0.9499998749996875\n"
     ]
    },
    {
     "name": "stderr",
     "output_type": "stream",
     "text": [
      " 10%|█         | 40320/400000 [00:19<08:23, 714.67it/s] "
     ]
    },
    {
     "name": "stdout",
     "output_type": "stream",
     "text": [
      "Episode: 40000, mean_reward: 0.0, games_won: 0, avg_steps: 137.476 , epsilon: 0.899999749999375\n"
     ]
    },
    {
     "name": "stderr",
     "output_type": "stream",
     "text": [
      " 13%|█▎        | 50362/400000 [00:25<08:34, 679.34it/s] "
     ]
    },
    {
     "name": "stdout",
     "output_type": "stream",
     "text": [
      "Episode: 49999, mean_reward: 0.0, games_won: 0, avg_steps: 140.372 , epsilon: 0.8750021875054688\n"
     ]
    },
    {
     "name": "stderr",
     "output_type": "stream",
     "text": [
      " 15%|█▌        | 60359/400000 [00:31<08:00, 707.50it/s] "
     ]
    },
    {
     "name": "stdout",
     "output_type": "stream",
     "text": [
      "Episode: 60000, mean_reward: 0.06273726495491963, games_won: 36, avg_steps: 134.47 , epsilon: 0.8499996249990625\n"
     ]
    },
    {
     "name": "stderr",
     "output_type": "stream",
     "text": [
      " 20%|██        | 80215/400000 [00:43<09:52, 539.48it/s] "
     ]
    },
    {
     "name": "stdout",
     "output_type": "stream",
     "text": [
      "Episode: 80000, mean_reward: 0.1089245800513162, games_won: 64, avg_steps: 167.042 , epsilon: 0.79999949999875\n"
     ]
    },
    {
     "name": "stderr",
     "output_type": "stream",
     "text": [
      " 25%|██▌       | 100201/400000 [00:55<12:39, 394.62it/s]"
     ]
    },
    {
     "name": "stdout",
     "output_type": "stream",
     "text": [
      "Episode: 100000, mean_reward: 0.0717798170263161, games_won: 44, avg_steps: 242.024 , epsilon: 0.7499993749984375\n"
     ]
    },
    {
     "name": "stderr",
     "output_type": "stream",
     "text": [
      " 30%|███       | 120248/400000 [01:08<08:13, 567.08it/s] "
     ]
    },
    {
     "name": "stdout",
     "output_type": "stream",
     "text": [
      "Episode: 120000, mean_reward: 0.2151610276658328, games_won: 123, avg_steps: 137.566 , epsilon: 0.699999249998125\n"
     ]
    },
    {
     "name": "stderr",
     "output_type": "stream",
     "text": [
      " 35%|███▌      | 140106/400000 [01:22<12:17, 352.64it/s] "
     ]
    },
    {
     "name": "stdout",
     "output_type": "stream",
     "text": [
      "Episode: 140000, mean_reward: 0.2624197259448258, games_won: 153, avg_steps: 158.918 , epsilon: 0.6499991249978125\n"
     ]
    },
    {
     "name": "stderr",
     "output_type": "stream",
     "text": [
      " 40%|████      | 160205/400000 [01:37<07:34, 527.91it/s] "
     ]
    },
    {
     "name": "stdout",
     "output_type": "stream",
     "text": [
      "Episode: 160000, mean_reward: 0.25708611855315006, games_won: 144, avg_steps: 113.958 , epsilon: 0.5999989999975\n"
     ]
    },
    {
     "name": "stderr",
     "output_type": "stream",
     "text": [
      " 45%|████▌     | 180166/400000 [01:53<07:40, 477.82it/s] "
     ]
    },
    {
     "name": "stdout",
     "output_type": "stream",
     "text": [
      "Episode: 180000, mean_reward: 0.18844687524692053, games_won: 106, avg_steps: 120.308 , epsilon: 0.5499988749971875\n"
     ]
    },
    {
     "name": "stderr",
     "output_type": "stream",
     "text": [
      " 50%|█████     | 200257/400000 [02:12<07:06, 468.52it/s] "
     ]
    },
    {
     "name": "stdout",
     "output_type": "stream",
     "text": [
      "Episode: 200000, mean_reward: 0.48632755346510753, games_won: 289, avg_steps: 173.728 , epsilon: 0.499998749996875\n"
     ]
    },
    {
     "name": "stderr",
     "output_type": "stream",
     "text": [
      " 55%|█████▌    | 220196/400000 [02:32<10:39, 280.97it/s] "
     ]
    },
    {
     "name": "stdout",
     "output_type": "stream",
     "text": [
      "Episode: 220000, mean_reward: 0.5136715114504447, games_won: 311, avg_steps: 204.242 , epsilon: 0.4499986249965625\n"
     ]
    },
    {
     "name": "stderr",
     "output_type": "stream",
     "text": [
      " 60%|██████    | 240108/400000 [02:54<09:00, 295.81it/s] "
     ]
    },
    {
     "name": "stdout",
     "output_type": "stream",
     "text": [
      "Episode: 240000, mean_reward: 0.5449787130106005, games_won: 319, avg_steps: 169.01 , epsilon: 0.39999849999625\n"
     ]
    },
    {
     "name": "stderr",
     "output_type": "stream",
     "text": [
      " 65%|██████▌   | 260153/400000 [03:17<09:24, 247.61it/s] "
     ]
    },
    {
     "name": "stdout",
     "output_type": "stream",
     "text": [
      "Episode: 260000, mean_reward: 0.5450906742536433, games_won: 321, avg_steps: 174.182 , epsilon: 0.3499983749959375\n"
     ]
    },
    {
     "name": "stderr",
     "output_type": "stream",
     "text": [
      " 70%|███████   | 280086/400000 [03:42<08:07, 246.04it/s]"
     ]
    },
    {
     "name": "stdout",
     "output_type": "stream",
     "text": [
      "Episode: 280000, mean_reward: 0.4991881599848461, games_won: 287, avg_steps: 146.494 , epsilon: 0.29999824999562497\n"
     ]
    },
    {
     "name": "stderr",
     "output_type": "stream",
     "text": [
      " 75%|███████▌  | 300111/400000 [04:11<07:20, 226.79it/s]"
     ]
    },
    {
     "name": "stdout",
     "output_type": "stream",
     "text": [
      "Episode: 300000, mean_reward: 0.4999378982948735, games_won: 291, avg_steps: 153.91 , epsilon: 0.2499981249953125\n"
     ]
    },
    {
     "name": "stderr",
     "output_type": "stream",
     "text": [
      " 80%|████████  | 320110/400000 [04:42<07:53, 168.75it/s]"
     ]
    },
    {
     "name": "stdout",
     "output_type": "stream",
     "text": [
      "Episode: 320000, mean_reward: 0.5100130220972565, games_won: 302, avg_steps: 179.794 , epsilon: 0.19999799999499998\n"
     ]
    },
    {
     "name": "stderr",
     "output_type": "stream",
     "text": [
      " 85%|████████▌ | 340150/400000 [05:12<02:49, 353.40it/s]"
     ]
    },
    {
     "name": "stdout",
     "output_type": "stream",
     "text": [
      "Episode: 340000, mean_reward: 0.47450476592078883, games_won: 265, avg_steps: 111.754 , epsilon: 0.14999787499468747\n"
     ]
    },
    {
     "name": "stderr",
     "output_type": "stream",
     "text": [
      " 90%|█████████ | 360071/400000 [05:43<02:32, 261.55it/s]"
     ]
    },
    {
     "name": "stdout",
     "output_type": "stream",
     "text": [
      "Episode: 360000, mean_reward: 0.49361761770043094, games_won: 277, avg_steps: 121.906 , epsilon: 0.09999774999437498\n"
     ]
    },
    {
     "name": "stderr",
     "output_type": "stream",
     "text": [
      " 95%|█████████▌| 380079/400000 [06:16<01:28, 224.71it/s]"
     ]
    },
    {
     "name": "stdout",
     "output_type": "stream",
     "text": [
      "Episode: 380000, mean_reward: 0.5911625455332926, games_won: 332, avg_steps: 124.796 , epsilon: 0.04999762499406248\n"
     ]
    },
    {
     "name": "stderr",
     "output_type": "stream",
     "text": [
      "100%|██████████| 400000/400000 [06:56<00:00, 961.39it/s]"
     ]
    },
    {
     "name": "stdout",
     "output_type": "stream",
     "text": [
      "Episode: 399999, mean_reward: 0.6007299034982777, games_won: 336, avg_steps: 117.156 , epsilon: 0.0\n"
     ]
    },
    {
     "name": "stderr",
     "output_type": "stream",
     "text": [
      "\n"
     ]
    }
   ],
   "source": [
    "np.random.seed(1)\n",
    "\n",
    "desc= [\n",
    "    \"SFFHHFFF\",\n",
    "    \"FFFFHFFF\",\n",
    "    \"FFFFFFFF\",\n",
    "    \"FFHFFHFH\",\n",
    "    \"FFFFHFFF\",\n",
    "    \"FHFFFFHH\",\n",
    "    \"FFFFFFFF\",\n",
    "    \"FFFHHFFG\",\n",
    "]\n",
    "\n",
    "def frozenPhi8(s):\n",
    "    a=np.zeros(64)\n",
    "    a[s]=1.0\n",
    "    return(a)\n",
    "\n",
    "def prepFrozen8(render_mode=None):\n",
    "    env = gym.make('FrozenLake-v1',desc=desc,render_mode=render_mode)\n",
    "    dname=\"Frozen8\"\n",
    "    env._max_episode_steps = 1000\n",
    "    nA=env.action_space.n \n",
    "    dim=64\n",
    "    _a,_b = env.reset(seed=1)\n",
    "    return(dim,nA,env,frozenPhi8,dname)\n",
    "\n",
    "\n",
    "nS,nA,env,phi,envName = prepFrozen8()\n",
    "mean_reward, sub_optimal_weights = sarsa_linear_approximation(env, nA, dim=nS, episodes=400000, alpha=0.001, gamma=0.999, start_epsilon=1, max_steps_per_episode=1000, phi=phi, mean=1, std_dev=0.1)\n",
    "\n",
    "\n"
   ]
  },
  {
   "cell_type": "code",
   "execution_count": null,
   "metadata": {},
   "outputs": [],
   "source": []
  },
  {
   "cell_type": "code",
   "execution_count": null,
   "metadata": {},
   "outputs": [],
   "source": []
  }
 ],
 "metadata": {
  "kernelspec": {
   "display_name": "gpu-env",
   "language": "python",
   "name": "gpu-env"
  },
  "language_info": {
   "codemirror_mode": {
    "name": "ipython",
    "version": 3
   },
   "file_extension": ".py",
   "mimetype": "text/x-python",
   "name": "python",
   "nbconvert_exporter": "python",
   "pygments_lexer": "ipython3",
   "version": "3.10.14"
  }
 },
 "nbformat": 4,
 "nbformat_minor": 2
}
